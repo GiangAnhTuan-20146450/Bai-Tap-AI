{
  "nbformat": 4,
  "nbformat_minor": 0,
  "metadata": {
    "colab": {
      "provenance": [],
      "gpuType": "T4",
      "mount_file_id": "1trdD-tvEHbberl7P_Xfqu0A2h62uYJb_",
      "authorship_tag": "ABX9TyMXUGm/uIQ8XiVTzzan8Fas",
      "include_colab_link": true
    },
    "kernelspec": {
      "name": "python3",
      "display_name": "Python 3"
    },
    "language_info": {
      "name": "python"
    },
    "accelerator": "GPU",
    "gpuClass": "standard"
  },
  "cells": [
    {
      "cell_type": "markdown",
      "metadata": {
        "id": "view-in-github",
        "colab_type": "text"
      },
      "source": [
        "<a href=\"https://colab.research.google.com/github/GiangAnhTuan-20146450/Bai-Tap-AI/blob/main/Handwriting_Recognition.ipynb\" target=\"_parent\"><img src=\"https://colab.research.google.com/assets/colab-badge.svg\" alt=\"Open In Colab\"/></a>"
      ]
    },
    {
      "cell_type": "code",
      "execution_count": null,
      "metadata": {
        "id": "BYH5-brYNVzo"
      },
      "outputs": [],
      "source": [
        "import matplotlib.pyplot as plt\n",
        "from matplotlib.image import imread\n",
        "from keras.models import Sequential\n",
        "folder = '/content/drive/MyDrive/AI_CUOIKI/Datatrain/'\n",
        "from keras.models import load_model"
      ]
    },
    {
      "cell_type": "code",
      "source": [
        "from os import listdir\n",
        "from os.path import isdir\n",
        "from numpy import asarray\n",
        "from numpy import save\n",
        "from keras.utils import load_img, img_to_array\n",
        "photos, labels = list(),list()\n",
        "for file in listdir(folder):\n",
        "  output = 0.0\n",
        "  if file.startswith('So0'):\n",
        "    output = 1\n",
        "  if file.startswith('So1'):\n",
        "    output = 2\n",
        "  if file.startswith('So2'):\n",
        "    output = 3\n",
        "  if file.startswith('So3'):\n",
        "    output = 4\n",
        "  if file.startswith('So4'):\n",
        "    output = 5\n",
        "  if file.startswith('So5'):\n",
        "    output = 6\n",
        "  if file.startswith('So6'):\n",
        "    output = 7\n",
        "  if file.startswith('So7'):\n",
        "    output = 8\n",
        "  if file.startswith('So8'):\n",
        "    output = 9\n",
        "  if file.startswith('So9'):\n",
        "    output = 10\n",
        "  img =load_img(folder+ file,target_size=(60,60))\n",
        "  photo = img_to_array(img)\n",
        "  photos.append(photo)\n",
        "  labels.append(output)\n",
        "photos = asarray(photos)\n",
        "labels = asarray(labels)\n",
        "print(photos.shape,labels.shape)\n",
        "save('/content/drive/MyDrive/AI_CUOIKI/Number_photos.npy',photos)\n",
        "save('/content/drive/MyDrive/AI_CUOIKI/Number_labels.npy',labels)"
      ],
      "metadata": {
        "colab": {
          "base_uri": "https://localhost:8080/"
        },
        "id": "42ePqTu4OIIL",
        "outputId": "73efc31d-144a-4b49-b1e5-630b22abfb6d"
      },
      "execution_count": null,
      "outputs": [
        {
          "output_type": "stream",
          "name": "stdout",
          "text": [
            "(550, 60, 60, 3) (550,)\n"
          ]
        }
      ]
    },
    {
      "cell_type": "code",
      "source": [
        "import numpy as np\n",
        "x_train = np.load('/content/drive/MyDrive/AI_CUOIKI/Number_photos.npy')\n",
        "y_train = np.load('/content/drive/MyDrive/AI_CUOIKI/Number_labels.npy')\n",
        "print(x_train.shape)\n",
        "print(y_train.shape)\n",
        "x=x_train\n",
        "y=y_train"
      ],
      "metadata": {
        "colab": {
          "base_uri": "https://localhost:8080/"
        },
        "id": "jT13xKbqPJ-s",
        "outputId": "2bf7eb1f-e03e-4ffc-e6cf-cce6a99da60d"
      },
      "execution_count": null,
      "outputs": [
        {
          "output_type": "stream",
          "name": "stdout",
          "text": [
            "(550, 60, 60, 3)\n",
            "(550,)\n"
          ]
        }
      ]
    },
    {
      "cell_type": "code",
      "source": [
        "x_train = x_train.astype('float32')/255\n",
        "from keras.utils import to_categorical\n",
        "y_train = to_categorical(y_train,11)"
      ],
      "metadata": {
        "id": "YeyHS0oAPUhR"
      },
      "execution_count": null,
      "outputs": []
    },
    {
      "cell_type": "code",
      "source": [
        "from keras.models import Sequential\n",
        "from keras.layers import Dense,Dropout,Flatten,Conv2D,MaxPooling2D,Normalization,LeakyReLU\n",
        "from keras.optimizers import Adam\n",
        "\n",
        "model = Sequential()\n",
        "model.add(Conv2D(32,kernel_size = (3,3),activation = 'relu',input_shape=(60,60,3),padding='Same'))\n",
        "model.add(MaxPooling2D((2,2),padding='same'))\n",
        "model.add(Dropout(0.25))\n",
        "\n",
        "model.add(Conv2D(64,(3,3),activation ='relu',padding ='same'))\n",
        "model.add(MaxPooling2D((2,2),padding='same'))\n",
        "model.add(Dropout(0.25))\n",
        "\n",
        "model.add(Conv2D(128,(3,3),activation ='relu',padding ='same'))\n",
        "model.add(MaxPooling2D((2,2),padding='same'))\n",
        "model.add(Dropout(0.25))\n",
        "\n",
        "model.add(Flatten())\n",
        "model.add(Dense(64,activation = 'relu'))\n",
        "model.add(Dropout(0.25))\n",
        "model.add(Dense(11,activation='softmax'))\n",
        "\n",
        "from keras.losses import categorical_crossentropy\n",
        "model.compile(loss = categorical_crossentropy,optimizer = Adam(),metrics=['accuracy'])\n",
        "model.summary()\n",
        "train = model.fit(x_train,y_train,batch_size=64,epochs = 50,verbose = 1)"
      ],
      "metadata": {
        "colab": {
          "base_uri": "https://localhost:8080/"
        },
        "id": "0hPLyfCmPZOT",
        "outputId": "2d832da3-2502-470c-a0ce-226b5399f0aa"
      },
      "execution_count": null,
      "outputs": [
        {
          "output_type": "stream",
          "name": "stdout",
          "text": [
            "Model: \"sequential_3\"\n",
            "_________________________________________________________________\n",
            " Layer (type)                Output Shape              Param #   \n",
            "=================================================================\n",
            " conv2d_9 (Conv2D)           (None, 60, 60, 32)        896       \n",
            "                                                                 \n",
            " max_pooling2d_9 (MaxPooling  (None, 30, 30, 32)       0         \n",
            " 2D)                                                             \n",
            "                                                                 \n",
            " dropout_12 (Dropout)        (None, 30, 30, 32)        0         \n",
            "                                                                 \n",
            " conv2d_10 (Conv2D)          (None, 30, 30, 64)        18496     \n",
            "                                                                 \n",
            " max_pooling2d_10 (MaxPoolin  (None, 15, 15, 64)       0         \n",
            " g2D)                                                            \n",
            "                                                                 \n",
            " dropout_13 (Dropout)        (None, 15, 15, 64)        0         \n",
            "                                                                 \n",
            " conv2d_11 (Conv2D)          (None, 15, 15, 128)       73856     \n",
            "                                                                 \n",
            " max_pooling2d_11 (MaxPoolin  (None, 8, 8, 128)        0         \n",
            " g2D)                                                            \n",
            "                                                                 \n",
            " dropout_14 (Dropout)        (None, 8, 8, 128)         0         \n",
            "                                                                 \n",
            " flatten_3 (Flatten)         (None, 8192)              0         \n",
            "                                                                 \n",
            " dense_6 (Dense)             (None, 64)                524352    \n",
            "                                                                 \n",
            " dropout_15 (Dropout)        (None, 64)                0         \n",
            "                                                                 \n",
            " dense_7 (Dense)             (None, 11)                715       \n",
            "                                                                 \n",
            "=================================================================\n",
            "Total params: 618,315\n",
            "Trainable params: 618,315\n",
            "Non-trainable params: 0\n",
            "_________________________________________________________________\n",
            "Epoch 1/50\n",
            "9/9 [==============================] - 1s 16ms/step - loss: 2.4195 - accuracy: 0.0855\n",
            "Epoch 2/50\n",
            "9/9 [==============================] - 0s 14ms/step - loss: 2.3632 - accuracy: 0.1055\n",
            "Epoch 3/50\n",
            "9/9 [==============================] - 0s 12ms/step - loss: 2.3457 - accuracy: 0.1127\n",
            "Epoch 4/50\n",
            "9/9 [==============================] - 0s 12ms/step - loss: 2.3199 - accuracy: 0.1418\n",
            "Epoch 5/50\n",
            "9/9 [==============================] - 0s 12ms/step - loss: 2.3108 - accuracy: 0.1091\n",
            "Epoch 6/50\n",
            "9/9 [==============================] - 0s 11ms/step - loss: 2.2437 - accuracy: 0.1800\n",
            "Epoch 7/50\n",
            "9/9 [==============================] - 0s 12ms/step - loss: 2.1351 - accuracy: 0.2345\n",
            "Epoch 8/50\n",
            "9/9 [==============================] - 0s 11ms/step - loss: 1.9264 - accuracy: 0.3127\n",
            "Epoch 9/50\n",
            "9/9 [==============================] - 0s 11ms/step - loss: 1.7299 - accuracy: 0.4091\n",
            "Epoch 10/50\n",
            "9/9 [==============================] - 0s 11ms/step - loss: 1.5416 - accuracy: 0.4964\n",
            "Epoch 11/50\n",
            "9/9 [==============================] - 0s 11ms/step - loss: 1.4073 - accuracy: 0.5182\n",
            "Epoch 12/50\n",
            "9/9 [==============================] - 0s 12ms/step - loss: 1.2437 - accuracy: 0.5782\n",
            "Epoch 13/50\n",
            "9/9 [==============================] - 0s 11ms/step - loss: 1.1293 - accuracy: 0.6200\n",
            "Epoch 14/50\n",
            "9/9 [==============================] - 0s 13ms/step - loss: 1.0388 - accuracy: 0.6745\n",
            "Epoch 15/50\n",
            "9/9 [==============================] - 0s 11ms/step - loss: 0.9305 - accuracy: 0.6800\n",
            "Epoch 16/50\n",
            "9/9 [==============================] - 0s 12ms/step - loss: 0.8095 - accuracy: 0.7309\n",
            "Epoch 17/50\n",
            "9/9 [==============================] - 0s 12ms/step - loss: 0.7730 - accuracy: 0.7309\n",
            "Epoch 18/50\n",
            "9/9 [==============================] - 0s 11ms/step - loss: 0.6652 - accuracy: 0.7800\n",
            "Epoch 19/50\n",
            "9/9 [==============================] - 0s 11ms/step - loss: 0.6418 - accuracy: 0.7891\n",
            "Epoch 20/50\n",
            "9/9 [==============================] - 0s 11ms/step - loss: 0.5809 - accuracy: 0.7945\n",
            "Epoch 21/50\n",
            "9/9 [==============================] - 0s 11ms/step - loss: 0.5639 - accuracy: 0.7927\n",
            "Epoch 22/50\n",
            "9/9 [==============================] - 0s 12ms/step - loss: 0.5257 - accuracy: 0.8091\n",
            "Epoch 23/50\n",
            "9/9 [==============================] - 0s 12ms/step - loss: 0.4693 - accuracy: 0.8364\n",
            "Epoch 24/50\n",
            "9/9 [==============================] - 0s 12ms/step - loss: 0.3969 - accuracy: 0.8564\n",
            "Epoch 25/50\n",
            "9/9 [==============================] - 0s 11ms/step - loss: 0.4256 - accuracy: 0.8564\n",
            "Epoch 26/50\n",
            "9/9 [==============================] - 0s 13ms/step - loss: 0.4400 - accuracy: 0.8418\n",
            "Epoch 27/50\n",
            "9/9 [==============================] - 0s 12ms/step - loss: 0.4312 - accuracy: 0.8436\n",
            "Epoch 28/50\n",
            "9/9 [==============================] - 0s 12ms/step - loss: 0.4124 - accuracy: 0.8618\n",
            "Epoch 29/50\n",
            "9/9 [==============================] - 0s 11ms/step - loss: 0.3665 - accuracy: 0.8691\n",
            "Epoch 30/50\n",
            "9/9 [==============================] - 0s 12ms/step - loss: 0.3556 - accuracy: 0.8745\n",
            "Epoch 31/50\n",
            "9/9 [==============================] - 0s 11ms/step - loss: 0.3171 - accuracy: 0.8818\n",
            "Epoch 32/50\n",
            "9/9 [==============================] - 0s 12ms/step - loss: 0.3115 - accuracy: 0.8836\n",
            "Epoch 33/50\n",
            "9/9 [==============================] - 0s 11ms/step - loss: 0.2587 - accuracy: 0.9164\n",
            "Epoch 34/50\n",
            "9/9 [==============================] - 0s 11ms/step - loss: 0.2999 - accuracy: 0.8927\n",
            "Epoch 35/50\n",
            "9/9 [==============================] - 0s 12ms/step - loss: 0.2621 - accuracy: 0.8964\n",
            "Epoch 36/50\n",
            "9/9 [==============================] - 0s 11ms/step - loss: 0.3156 - accuracy: 0.8891\n",
            "Epoch 37/50\n",
            "9/9 [==============================] - 0s 12ms/step - loss: 0.2324 - accuracy: 0.9182\n",
            "Epoch 38/50\n",
            "9/9 [==============================] - 0s 11ms/step - loss: 0.2145 - accuracy: 0.9291\n",
            "Epoch 39/50\n",
            "9/9 [==============================] - 0s 11ms/step - loss: 0.1945 - accuracy: 0.9382\n",
            "Epoch 40/50\n",
            "9/9 [==============================] - 0s 11ms/step - loss: 0.1944 - accuracy: 0.9345\n",
            "Epoch 41/50\n",
            "9/9 [==============================] - 0s 12ms/step - loss: 0.2155 - accuracy: 0.9145\n",
            "Epoch 42/50\n",
            "9/9 [==============================] - 0s 12ms/step - loss: 0.2022 - accuracy: 0.9327\n",
            "Epoch 43/50\n",
            "9/9 [==============================] - 0s 11ms/step - loss: 0.2135 - accuracy: 0.9291\n",
            "Epoch 44/50\n",
            "9/9 [==============================] - 0s 12ms/step - loss: 0.1673 - accuracy: 0.9400\n",
            "Epoch 45/50\n",
            "9/9 [==============================] - 0s 12ms/step - loss: 0.2304 - accuracy: 0.9145\n",
            "Epoch 46/50\n",
            "9/9 [==============================] - 0s 11ms/step - loss: 0.1667 - accuracy: 0.9473\n",
            "Epoch 47/50\n",
            "9/9 [==============================] - 0s 12ms/step - loss: 0.2104 - accuracy: 0.9273\n",
            "Epoch 48/50\n",
            "9/9 [==============================] - 0s 11ms/step - loss: 0.2126 - accuracy: 0.9164\n",
            "Epoch 49/50\n",
            "9/9 [==============================] - 0s 11ms/step - loss: 0.1935 - accuracy: 0.9291\n",
            "Epoch 50/50\n",
            "9/9 [==============================] - 0s 11ms/step - loss: 0.1952 - accuracy: 0.9218\n"
          ]
        }
      ]
    },
    {
      "cell_type": "code",
      "source": [
        "model.save('/content/drive/MyDrive/AI_CUOIKI/Predict_Number_model.h5')"
      ],
      "metadata": {
        "id": "0slmKHf1Pgaa"
      },
      "execution_count": null,
      "outputs": []
    },
    {
      "cell_type": "code",
      "source": [
        "import matplotlib.pyplot as plt\n",
        "from keras.utils import load_img\n",
        "from keras.utils.image_utils import img_to_array\n",
        "import numpy as np\n",
        "vat = {1: 'So0',2:'So1', 3:'So2', 4:'So3',5:'So4', 6:'So5',7:'So6',8:'So7', 9:'So8', 10:'So9' }\n",
        "img = load_img(\"/content/drive/MyDrive/AI_CUOIKI/Datatest/So2test.jpg\",target_size=(60,60))\n",
        "plt.imshow(img)\n",
        "img = img_to_array(img)\n",
        "img=img.reshape(1,60,60,3)\n",
        "img = img.astype('float32')\n",
        "img =img/255\n",
        "result  = np.argmax(model.predict(img),axis=1)\n",
        "vat[result[0]]"
      ],
      "metadata": {
        "colab": {
          "base_uri": "https://localhost:8080/",
          "height": 468
        },
        "id": "lIDUKlXbQcUz",
        "outputId": "2ef57c9e-3e8a-4a14-bf96-0b331835c121"
      },
      "execution_count": null,
      "outputs": [
        {
          "output_type": "stream",
          "name": "stdout",
          "text": [
            "1/1 [==============================] - 0s 126ms/step\n"
          ]
        },
        {
          "output_type": "execute_result",
          "data": {
            "text/plain": [
              "'So2'"
            ],
            "application/vnd.google.colaboratory.intrinsic+json": {
              "type": "string"
            }
          },
          "metadata": {},
          "execution_count": 17
        },
        {
          "output_type": "display_data",
          "data": {
            "text/plain": [
              "<Figure size 640x480 with 1 Axes>"
            ],
            "image/png": "[encoded data removed]"
          },
          "metadata": {}
        }
      ]
    },
    {
      "cell_type": "code",
      "source": [],
      "metadata": {
        "id": "Kw8F6VbAVa3j"
      },
      "execution_count": null,
      "outputs": []
    }
  ]
}