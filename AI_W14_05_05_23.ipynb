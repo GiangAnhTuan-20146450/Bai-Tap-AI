{
  "nbformat": 4,
  "nbformat_minor": 0,
  "metadata": {
    "colab": {
      "provenance": [],
      "mount_file_id": "1050D6oJcAFnMCRYT9YphyTLGb4PJOK2h",
      "authorship_tag": "ABX9TyPorE2uAkwYN+YLAXblz7w9",
      "include_colab_link": true
    },
    "kernelspec": {
      "name": "python3",
      "display_name": "Python 3"
    },
    "language_info": {
      "name": "python"
    }
  },
  "cells": [
    {
      "cell_type": "markdown",
      "metadata": {
        "id": "view-in-github",
        "colab_type": "text"
      },
      "source": [
        "<a href=\"https://colab.research.google.com/github/GiangAnhTuan-20146450/Bai-Tap-AI/blob/main/AI_W14_05_05_23.ipynb\" target=\"_parent\"><img src=\"https://colab.research.google.com/assets/colab-badge.svg\" alt=\"Open In Colab\"/></a>"
      ]
    },
    {
      "cell_type": "code",
      "execution_count": null,
      "metadata": {
        "colab": {
          "base_uri": "https://localhost:8080/"
        },
        "id": "woFequCsNVZ2",
        "outputId": "b2d57ee5-85ef-42e8-c781-8c7b440f7cf4"
      },
      "outputs": [
        {
          "output_type": "stream",
          "name": "stdout",
          "text": [
            "Looking in indexes: https://pypi.org/simple, https://us-python.pkg.dev/colab-wheels/public/simple/\n",
            "Collecting SpeechRecognition\n",
            "  Using cached SpeechRecognition-3.10.0-py2.py3-none-any.whl (32.8 MB)\n",
            "Collecting pydub\n",
            "  Downloading pydub-0.25.1-py2.py3-none-any.whl (32 kB)\n",
            "Requirement already satisfied: requests>=2.26.0 in /usr/local/lib/python3.10/dist-packages (from SpeechRecognition) (2.27.1)\n",
            "Requirement already satisfied: certifi>=2017.4.17 in /usr/local/lib/python3.10/dist-packages (from requests>=2.26.0->SpeechRecognition) (2022.12.7)\n",
            "Requirement already satisfied: idna<4,>=2.5 in /usr/local/lib/python3.10/dist-packages (from requests>=2.26.0->SpeechRecognition) (3.4)\n",
            "Requirement already satisfied: charset-normalizer~=2.0.0 in /usr/local/lib/python3.10/dist-packages (from requests>=2.26.0->SpeechRecognition) (2.0.12)\n",
            "Requirement already satisfied: urllib3<1.27,>=1.21.1 in /usr/local/lib/python3.10/dist-packages (from requests>=2.26.0->SpeechRecognition) (1.26.15)\n",
            "Installing collected packages: pydub, SpeechRecognition\n",
            "Successfully installed SpeechRecognition-3.10.0 pydub-0.25.1\n"
          ]
        }
      ],
      "source": [
        "pip install SpeechRecognition pydub"
      ]
    },
    {
      "cell_type": "code",
      "source": [
        "import speech_recognition as sr"
      ],
      "metadata": {
        "id": "oxAALse6OUHI"
      },
      "execution_count": null,
      "outputs": []
    },
    {
      "cell_type": "code",
      "source": [
        "r = sr.Recognizer()\n",
        "test = sr.AudioFile('male.wav')\n",
        "with test as source:\n",
        "  data = r.record(source)\n",
        "  text = r.recognize_google(data)\n",
        "  print(text)"
      ],
      "metadata": {
        "id": "3RNHWYhSOccR",
        "colab": {
          "base_uri": "https://localhost:8080/"
        },
        "outputId": "86cf3ec9-d6c6-41f7-b897-5c0217adff32"
      },
      "execution_count": null,
      "outputs": [
        {
          "output_type": "stream",
          "name": "stdout",
          "text": [
            "what if somebody decides to break it be careful that you keep adequate coverage but look for places to save money baby it's taking longer to get things squared away than the bankers expected during the wife for once company may win her tax hated retirement income as helpful as our cost on the two naked bone when the title of this type of song is in question there's no dying or waxing or gassing needed maybe personalized leather hard place work on a flat surface and smooth out the simplest kind of separate system uses a single self-contained unit the old shop at it still holds a good mechanic is usually a bad boss both figures would go higher in later years doll houses at set\n"
          ]
        }
      ]
    },
    {
      "cell_type": "code",
      "source": [
        "r = sr.Recognizer()\n",
        "test = sr.AudioFile('/content/drive/MyDrive/W14/Talk/Spain_talk.wav')\n",
        "with test as source:\n",
        "  data = r.record(source)\n",
        "  text = r.recognize_google(data,language = 'es')\n",
        "  print(text)"
      ],
      "metadata": {
        "colab": {
          "base_uri": "https://localhost:8080/"
        },
        "id": "zQvMnjoPPEEY",
        "outputId": "baa0b926-ff38-484e-932b-2d64e722dd75"
      },
      "execution_count": null,
      "outputs": [
        {
          "output_type": "stream",
          "name": "stdout",
          "text": [
            "cuál es tu nivel de español haz esta prueba para descubrirlo en la clase de hoy vamos a averiguar cuál es tu nivel de español es A1 A2 B1 B2 C1 o C2 es importante que sepas cuál es tu nivel para que puedas crear un plan de acción para mejorar en la clase de hoy vamos a ver vamos a revisar algunas preguntas que pertenecen a cada nivel para que tú puedas ver y evaluar en qué nivel está tu español hola soy Brenda romaniello tu profesora de español de all Spanish y directora del programa the Spanish fluency claro antes de ir a las preguntas vamos a aprender qué es el Marco Común Europeo de Referencia para las Lenguas el Marco Común Europeo una\n"
          ]
        }
      ]
    },
    {
      "cell_type": "code",
      "source": [
        "r = sr.Recognizer()\n",
        "test = sr.AudioFile('/content/drive/MyDrive/W14/Talk/chinese-talk.wav')\n",
        "with test as source:\n",
        "  data = r.record(source)\n",
        "  text = r.recognize_google(data,language = 'zh-cn')\n",
        "  print(text)"
      ],
      "metadata": {
        "colab": {
          "base_uri": "https://localhost:8080/"
        },
        "id": "oMZKvxJ5Pld_",
        "outputId": "d956cbf4-86c1-4e09-f88b-77da52a8c6dd"
      },
      "execution_count": null,
      "outputs": [
        {
          "output_type": "stream",
          "name": "stdout",
          "text": [
            "分享一個主題題目叫做學會理解彼此的差異請問你覺得你自己是感性的人還是理性的鄰居是否是實果真如此嗎我希望在本款非常簡短的演講做完以後也可以得出一個明確的學者如何快速的分別你是吃是感性和理性還是能夠看出來不同的人和人之間的差異其實從你家裡面一家四口在看電視的時候你就可以發現違建的玻璃一個很有錢我叫我是演說家然後一家四口四個人坐在沙發上面在看電視看到一半的時候突然發現那戶人家裡面養\n"
          ]
        }
      ]
    },
    {
      "cell_type": "code",
      "source": [
        "r = sr.Recognizer()\n",
        "test = sr.AudioFile('/content/drive/MyDrive/W14/Talk/japanese-talk.wav')\n",
        "with test as source:\n",
        "  data = r.record(source)\n",
        "  text = r.recognize_google(data,language = 'ja')\n",
        "  print(text)"
      ],
      "metadata": {
        "colab": {
          "base_uri": "https://localhost:8080/"
        },
        "id": "9KJGe4sKQWGf",
        "outputId": "2eb1dd9c-d9bc-4d07-dd25-0af7117a5396"
      },
      "execution_count": null,
      "outputs": [
        {
          "output_type": "stream",
          "name": "stdout",
          "text": [
            "最近色々まあ 悲しいニュースなんかを見まして 自己愛 自分を愛するということについてよく考えます 僕たちは他人を愛しなさい ということは1つの価値観として大切なこととして教えられてきましたが 自分を愛するということについてはあまり 積極的に語ってな 来なかったんじゃないでしょうか 何ででしょうか 多分 わが神が可愛いっていうのは自明のことでわざわざ その改めて自分を愛しなさいと言う必要がないからと思われてきたからからなのかもしれません人間は利己的なところがあります 何でも自分の思い通りにしたいとしかし何もかもがうまくいってるからじゃあ そういう自分を愛することができるかと言うと また ちょっと違うかもしれません どちらかというと 自己愛が語りにくい\n"
          ]
        }
      ]
    },
    {
      "cell_type": "code",
      "source": [
        "r = sr.Recognizer()\n",
        "test = sr.AudioFile('/content/drive/MyDrive/W14/Talk/vietnamese-talk.wav')\n",
        "with test as source:\n",
        "  data = r.record(source)\n",
        "  text = r.recognize_google(data,language = 'vi')\n",
        "  print(text)"
      ],
      "metadata": {
        "colab": {
          "base_uri": "https://localhost:8080/"
        },
        "id": "9kSEBQILRU-_",
        "outputId": "dd84b0ff-2853-4a67-eca6-e5d436e4078a"
      },
      "execution_count": null,
      "outputs": [
        {
          "output_type": "stream",
          "name": "stdout",
          "text": [
            "Ờ tôi cũng phải khoe là con gái tôi cái con gái lớn tuổi 31 tuổi rồi lên nha tôi cũng phải nghĩ lại là mình phải nói cái gì ngày hôm nay các bạn hãy hỏi tôi cái gì con tôi hỏi tôi cái gì vì một trong những điều mà tôi được hay được hỏi là anh tiến ơi liệu rằng thành công việc tiền bạc có phải là tiêu chuẩn hạnh phúc hay không thì tôi nói thật tôi bây giờ thì tôi cũng nghĩ thế này là có tiền thì chưa chắc đã hạnh phúc tới nhưng không có tiền thì rất rất khó hạnh phúc đấy là sự thật và khí các bạn tranh cãi nhau về chuyện là đi làm lương cao lương thấp Tôi muốn nói câu chuyện như thế này các bạn hãy nhớ cái đồng tiền lương được đấy là được xã hội được các tổ chức được các công ty công nhận năng lực và trình độ của các bạn và khác với chúng tôi liên hệ mà có thể cả đời chỉ là một công ty tôi đã làm ở FPT đến nay là 29 năm trong khi đó thì tôi lại muốn chia sẻ thế hệ Z ngày hôm nay cứ sau 25 35 Bạn lại đổi công ty một lần Thậm chí còn rất rất nhiều Bạn muốn đổi nghề một lần này là con tôi cũng vậy mà tôi rất mắc Chuyện đấy thì tôi mới chợt nhận ra giá trị Hạnh Phúc ngày hôm nay của các bạn trẻ đã bắt đầu khác đi rất nhiều được các bạn cho rằng là hạnh phúc khác thế hệ chúng tôi chúng tôi Hãy đặt mục tiêu thích đến và hạnh phúc và chúng tôi hay lý luận rằng là vấn đề không phải đạt được mục tiêu mà vấn đề là con đường đến mục tiêu đấy\n"
          ]
        }
      ]
    },
    {
      "cell_type": "code",
      "source": [
        "r = sr.Recognizer()\n",
        "test = sr.AudioFile('/content/drive/MyDrive/W14/Talk/korea-talk.wav')\n",
        "with test as source:\n",
        "  data = r.record(source)\n",
        "  text = r.recognize_google(data,language = 'ko')\n",
        "  print(text)"
      ],
      "metadata": {
        "colab": {
          "base_uri": "https://localhost:8080/"
        },
        "id": "1OeQtkCRRhnF",
        "outputId": "51dfba69-921e-4538-efe0-5fdf4a3aa420"
      },
      "execution_count": null,
      "outputs": [
        {
          "output_type": "stream",
          "name": "stdout",
          "text": [
            "저는 스무살의 쳐 제천 마음을 고등어에게 주었습니다 살 때 학비와 생활비를 직접 벌어야하는 대학생이 없어요 대부분 그러시죠 학비 생활비를 버려 다 보니까 알바도 투잡 쓰리잡 하게 좀 많았습니다 그러다 첫 여름방학이 됐을 때 목 돈을 벌 수 있는 시간 있잖아요 그래서 백화점에서 고등어 알바를 하기 시작햇습니다 면접을 보러 갔을 때 6분의 쟁쟁한 어머님들이 계셨지만 제가 꼬셨습니다 잘 웃어서 뽑아 주셨다고 하더라구요 그렇게 저는 고등어를 굽고 됐습니다 고등어 삼치 임연수 내로 저는 그렇게 세상에 많은 생선들이 있는지도 몰랐습니다 근데 그 와중에 저는 매일 매일 지하 3\n"
          ]
        }
      ]
    },
    {
      "cell_type": "code",
      "source": [
        "r = sr.Recognizer()\n",
        "test = sr.AudioFile('/content/drive/MyDrive/W14/Talk/english-tedtalk.wav')\n",
        "with test as source:\n",
        "  data = r.record(source)\n",
        "  text = r.recognize_google(data)\n",
        "  print(text)"
      ],
      "metadata": {
        "colab": {
          "base_uri": "https://localhost:8080/"
        },
        "id": "VjWsyrkuR2Z2",
        "outputId": "d59661a8-6c36-431d-b6fc-a07664526498"
      },
      "execution_count": null,
      "outputs": [
        {
          "output_type": "stream",
          "name": "stdout",
          "text": [
            "a few years ago I began to observe something in my own behavior that may be a bit uncomfortable and that was that from the moment that I woke up to the morning of screens I started the day with the thing that woke me up first thing in the morning my phone\n"
          ]
        }
      ]
    },
    {
      "cell_type": "code",
      "source": [
        "r = sr.Recognizer()\n",
        "test = sr.AudioFile('/content/drive/MyDrive/W14/Music/English_shape_of_you.wav')\n",
        "with test as source:\n",
        "  data = r.record(source)\n",
        "  text = r.recognize_google(data)\n",
        "  print(text)"
      ],
      "metadata": {
        "id": "H-PaUZ2TR_pq",
        "colab": {
          "base_uri": "https://localhost:8080/"
        },
        "outputId": "14a74082-3e85-4b76-fc9d-44e5276751aa"
      },
      "execution_count": null,
      "outputs": [
        {
          "output_type": "stream",
          "name": "stdout",
          "text": [
            "best place to find a lover\n"
          ]
        }
      ]
    },
    {
      "cell_type": "code",
      "source": [
        "r = sr.Recognizer()\n",
        "test = sr.AudioFile('/content/drive/MyDrive/W14/Music/Vietnamese_folkmusic.wav')\n",
        "with test as source:\n",
        "  data = r.record(source)\n",
        "  text = r.recognize_google(data,language = 'vi')\n",
        "  print(text)"
      ],
      "metadata": {
        "colab": {
          "base_uri": "https://localhost:8080/"
        },
        "id": "Mxx2SfwrTAJN",
        "outputId": "0aec9243-5463-43a0-e8fa-ad53a7603d84"
      },
      "execution_count": null,
      "outputs": [
        {
          "output_type": "stream",
          "name": "stdout",
          "text": [
            "những ai đi về miền đất Phương Nam Trời Xanh mây trắng rối vòng Cửu Long vừa tránh được Đông Đưa Nhớ Người Xưa từng ở nơi này cho ta thêm yêu dấu chân nhà nằm đi mà chúng ta thêm yêu về chim sâu\n"
          ]
        }
      ]
    },
    {
      "cell_type": "code",
      "source": [
        "r = sr.Recognizer()\n",
        "test = sr.AudioFile('/content/drive/MyDrive/W14/Music/chaulenba.wav')\n",
        "with test as source:\n",
        "  data = r.record(source,offset=19,duration=21)\n",
        "  text = r.recognize_google(data, language='vi')\n",
        "  print(text)"
      ],
      "metadata": {
        "colab": {
          "base_uri": "https://localhost:8080/"
        },
        "id": "qhupcnUMUhS-",
        "outputId": "a16f0564-23b4-43a0-ac13-6fe484c34946"
      },
      "execution_count": null,
      "outputs": [
        {
          "output_type": "stream",
          "name": "stdout",
          "text": [
            "lên ba cháu đi mẫu giáo cô thương cháu không khóc nhè để mẹ trồng cây trái vào nhà máy ông bà vui cấy cày lalala lalala\n"
          ]
        }
      ]
    },
    {
      "cell_type": "code",
      "source": [
        "r = sr.Recognizer()\n",
        "test = sr.AudioFile('/content/drive/MyDrive/W14/Music/spain-music.wav')\n",
        "with test as source:\n",
        "  data = r.record(source)\n",
        "  text = r.recognize_google(data, language='es')\n",
        "  print(text)"
      ],
      "metadata": {
        "colab": {
          "base_uri": "https://localhost:8080/"
        },
        "id": "QbqjrzvOWK5m",
        "outputId": "0a50aefc-acb0-476a-bb46-49f7e7a0799c"
      },
      "execution_count": null,
      "outputs": [
        {
          "output_type": "stream",
          "name": "stdout",
          "text": [
            "me voy acercando y voy armando el plan solo con pensarlo se acelera el puesto ya me está gustando más de lo normal todos mis sentidos van pidiendo más estoy que tomarlo sin ningún apuro despacito cosas al oído para que te acuerdes de mí culo despacito elefantes de tu laberinto\n"
          ]
        }
      ]
    },
    {
      "cell_type": "code",
      "source": [
        "r = sr.Recognizer()\n",
        "test = sr.AudioFile('/content/drive/MyDrive/W14/Music/chaulenba.wav')\n",
        "with test as source:\n",
        "  data1 = r.record(source,offset=19,duration=41)\n",
        "  text1 = r.recognize_google(data1, language='vi')\n",
        "  print(text)"
      ],
      "metadata": {
        "colab": {
          "base_uri": "https://localhost:8080/"
        },
        "id": "ZwauLuR3Zqfw",
        "outputId": "770d1cb7-0746-4a8b-8240-714c739a8c30"
      },
      "execution_count": null,
      "outputs": [
        {
          "output_type": "stream",
          "name": "stdout",
          "text": [
            "lên ba cháu đi mẫu giáo cô thương cháu không khóc nhè để mẹ trồng cây trái vào nhà máy ông bà vui cấy cày lalala lalala\n"
          ]
        }
      ]
    },
    {
      "cell_type": "code",
      "source": [
        "pip install gTTS"
      ],
      "metadata": {
        "colab": {
          "base_uri": "https://localhost:8080/"
        },
        "id": "gtNTtwbPbTUU",
        "outputId": "a1edb812-6a5c-452c-e974-91548de5b462"
      },
      "execution_count": null,
      "outputs": [
        {
          "output_type": "stream",
          "name": "stdout",
          "text": [
            "Looking in indexes: https://pypi.org/simple, https://us-python.pkg.dev/colab-wheels/public/simple/\n",
            "Collecting gTTS\n",
            "  Downloading gTTS-2.3.2-py3-none-any.whl (28 kB)\n",
            "Requirement already satisfied: requests<3,>=2.27 in /usr/local/lib/python3.10/dist-packages (from gTTS) (2.27.1)\n",
            "Requirement already satisfied: click<8.2,>=7.1 in /usr/local/lib/python3.10/dist-packages (from gTTS) (8.1.3)\n",
            "Requirement already satisfied: idna<4,>=2.5 in /usr/local/lib/python3.10/dist-packages (from requests<3,>=2.27->gTTS) (3.4)\n",
            "Requirement already satisfied: urllib3<1.27,>=1.21.1 in /usr/local/lib/python3.10/dist-packages (from requests<3,>=2.27->gTTS) (1.26.15)\n",
            "Requirement already satisfied: charset-normalizer~=2.0.0 in /usr/local/lib/python3.10/dist-packages (from requests<3,>=2.27->gTTS) (2.0.12)\n",
            "Requirement already satisfied: certifi>=2017.4.17 in /usr/local/lib/python3.10/dist-packages (from requests<3,>=2.27->gTTS) (2022.12.7)\n",
            "Installing collected packages: gTTS\n",
            "Successfully installed gTTS-2.3.2\n"
          ]
        }
      ]
    },
    {
      "cell_type": "code",
      "source": [
        "from gtts import gTTS\n",
        "import os"
      ],
      "metadata": {
        "id": "t2dhLtRDcTUS"
      },
      "execution_count": null,
      "outputs": []
    },
    {
      "cell_type": "code",
      "source": [
        "A = '''私の趣味は書道です。休日はいつも午前中から筆と硯を出して、夕方まで習字をしてすごします。でも、この習慣は日本に来てから始まったものです。もちろん私の国中国でも子供の時から、みんな習字を習います。しかし、国ではそれは私の趣味ではありませんでした。\n",
        "\n",
        "日本では何でも非常にお金がかかります。ですかち初めの頃、私はひまな時でも何もしないで一日中部屋にいました。でも日本語学校で習字のクラスが始まったので、私もやってみることにしました。漢字は私の国でも書きましたが、ひらがなを筆で書くのは初めての経験でした。その時私は筆で書くひらがなの美しさにとても感動しました。今、私はひらがなの練習に夢中になっています。\n",
        "\n",
        "それに習字をやっていると、国のこと、とくに高校生のころを思い出して、とてもなつかしい気持ちになります。習字は孤独な趣味です。友だちは「もっと外に出て遊んだ方がいいでしょう」と言いますが、私は習字をやっていると本当に時間をわすれてしまうのです。'''"
      ],
      "metadata": {
        "id": "1-EVOawpccRt"
      },
      "execution_count": null,
      "outputs": []
    },
    {
      "cell_type": "code",
      "source": [
        "speak = gTTS(text = A, lang = 'ja',slow = False)\n",
        "speak.save('/content/drive/MyDrive/W14/tiengNhat.mp3')"
      ],
      "metadata": {
        "id": "9dLwPcLFc_2g"
      },
      "execution_count": null,
      "outputs": []
    },
    {
      "cell_type": "code",
      "source": [
        "A = '''I love playing badminton in my spare time. I spend a lot of my free time playing badminton after finishing my homework. I was so interested in playing badminton from my childhood and started learning to play when I was 7 years old. When I was 8 years old, my dad told my teacher about my hobby of badminton. My teacher told my dad that there was a facility for playing sports daily in school so he could admit his child. Now, I enjoy playing badminton and I participate in inter-school competitions.'''"
      ],
      "metadata": {
        "id": "vyGkEB6ZdZO5"
      },
      "execution_count": null,
      "outputs": []
    },
    {
      "cell_type": "code",
      "source": [
        "speak = gTTS(text = A,slow = False)\n",
        "speak.save('/content/drive/MyDrive/W14/tiengAnh.mp3')"
      ],
      "metadata": {
        "id": "ReuRKrYneb4v"
      },
      "execution_count": null,
      "outputs": []
    },
    {
      "cell_type": "code",
      "source": [
        "A = '''J'ai beaucoup de passe-temps, mais j'aime lire le plus. Les livres sont toujours un bon ami pour moi. C'est un bon moyen d'améliorer mon vocabulaire en exposant de nombreux mots nouveaux. En lisant, j'améliore ma concentration car cela m'oblige à me concentrer sur ce que je lis pendant de longues périodes. Cela m'ouvre aussi la porte de la connaissance. La lecture de livres me raconte l'histoire du monde, me permet de voir la structure du cerveau ou m'apporte une histoire de Sherlock Holmes. Je pense que la lecture est l'une des activités d'intérieur les plus intéressantes.'''"
      ],
      "metadata": {
        "id": "iLF8r02megwT"
      },
      "execution_count": null,
      "outputs": []
    },
    {
      "cell_type": "code",
      "source": [
        "speak = gTTS(text = A, lang = 'fr', slow = False)\n",
        "speak.save('/content/drive/MyDrive/W14/tiengPhap.mp3')"
      ],
      "metadata": {
        "id": "tbfut0Ece0uQ"
      },
      "execution_count": null,
      "outputs": []
    },
    {
      "cell_type": "code",
      "source": [
        "A = '''사람들은 누구나 힘든 공부 날과 시험을 보거나 고생한 일을 한 후에 쉬는 시간이 필요합니다. 그 때 사람들이 보통 스트레스를 풀려고 방법을 생각합니다. \n",
        "\n",
        "제 취미는 여행입니다. 왜냐면 전 노는 것을 좋아하니까요. 여행은 좋은 점이 많습니다. 애행은 우리에게 스트레스를 풀고 쉬는 시간을 줍니다. 여행을 가면 기분이 좋아집니다.\n",
        "\n",
        " 낯선 곳에 자유롭게 가보면 완전히 흥분됩니다. 여러 나라에서 온 친구들과 사귀고 같이 놀 수 도 있습니다. 그리고 사진을 예쁘게 찍고 아름다운 경치도 구경하는데 충분히 그곳의 문화를 알게 되겁니다. \n",
        "\n",
        "사실은 여행을 많이 할수록 우리 지식이 더 넓어지는 것을 보여주었습니다. 그래서 전 매년마다 몇번씩 여행을 합니다. 시간이 있으면 여행 한번 가봅니다.'''"
      ],
      "metadata": {
        "id": "8ri6qnVse4Dk"
      },
      "execution_count": null,
      "outputs": []
    },
    {
      "cell_type": "code",
      "source": [
        "speak = gTTS(text = A, lang = 'ko', slow = False)\n",
        "speak.save('/content/drive/MyDrive/W14/tiengHan.mp3')"
      ],
      "metadata": {
        "id": "IIYo-zk4fiF1"
      },
      "execution_count": null,
      "outputs": []
    },
    {
      "cell_type": "code",
      "source": [
        "pip install googletrans==3.1.0a0"
      ],
      "metadata": {
        "colab": {
          "base_uri": "https://localhost:8080/",
          "height": 956
        },
        "id": "smS7GNyifn45",
        "outputId": "f161889a-1c03-4c07-996e-b7d579610475"
      },
      "execution_count": null,
      "outputs": [
        {
          "output_type": "stream",
          "name": "stdout",
          "text": [
            "Looking in indexes: https://pypi.org/simple, https://us-python.pkg.dev/colab-wheels/public/simple/\n",
            "Collecting googletrans==3.1.0a0\n",
            "  Downloading googletrans-3.1.0a0.tar.gz (19 kB)\n",
            "  Preparing metadata (setup.py) ... \u001b[?25l\u001b[?25hdone\n",
            "Collecting httpx==0.13.3\n",
            "  Downloading httpx-0.13.3-py3-none-any.whl (55 kB)\n",
            "\u001b[2K     \u001b[90m━━━━━━━━━━━━━━━━━━━━━━━━━━━━━━━━━━━━━━━━\u001b[0m \u001b[32m55.1/55.1 kB\u001b[0m \u001b[31m2.9 MB/s\u001b[0m eta \u001b[36m0:00:00\u001b[0m\n",
            "\u001b[?25hCollecting httpcore==0.9.*\n",
            "  Downloading httpcore-0.9.1-py3-none-any.whl (42 kB)\n",
            "\u001b[2K     \u001b[90m━━━━━━━━━━━━━━━━━━━━━━━━━━━━━━━━━━━━━━━━\u001b[0m \u001b[32m42.6/42.6 kB\u001b[0m \u001b[31m4.5 MB/s\u001b[0m eta \u001b[36m0:00:00\u001b[0m\n",
            "\u001b[?25hCollecting idna==2.*\n",
            "  Downloading idna-2.10-py2.py3-none-any.whl (58 kB)\n",
            "\u001b[2K     \u001b[90m━━━━━━━━━━━━━━━━━━━━━━━━━━━━━━━━━━━━━━━━\u001b[0m \u001b[32m58.8/58.8 kB\u001b[0m \u001b[31m7.3 MB/s\u001b[0m eta \u001b[36m0:00:00\u001b[0m\n",
            "\u001b[?25hRequirement already satisfied: certifi in /usr/local/lib/python3.10/dist-packages (from httpx==0.13.3->googletrans==3.1.0a0) (2022.12.7)\n",
            "Collecting rfc3986<2,>=1.3\n",
            "  Downloading rfc3986-1.5.0-py2.py3-none-any.whl (31 kB)\n",
            "Collecting chardet==3.*\n",
            "  Downloading chardet-3.0.4-py2.py3-none-any.whl (133 kB)\n",
            "\u001b[2K     \u001b[90m━━━━━━━━━━━━━━━━━━━━━━━━━━━━━━━━━━━━━━━\u001b[0m \u001b[32m133.4/133.4 kB\u001b[0m \u001b[31m7.9 MB/s\u001b[0m eta \u001b[36m0:00:00\u001b[0m\n",
            "\u001b[?25hRequirement already satisfied: sniffio in /usr/local/lib/python3.10/dist-packages (from httpx==0.13.3->googletrans==3.1.0a0) (1.3.0)\n",
            "Collecting hstspreload\n",
            "  Downloading hstspreload-2023.1.1-py3-none-any.whl (1.5 MB)\n",
            "\u001b[2K     \u001b[90m━━━━━━━━━━━━━━━━━━━━━━━━━━━━━━━━━━━━━━━━\u001b[0m \u001b[32m1.5/1.5 MB\u001b[0m \u001b[31m35.1 MB/s\u001b[0m eta \u001b[36m0:00:00\u001b[0m\n",
            "\u001b[?25hCollecting h11<0.10,>=0.8\n",
            "  Downloading h11-0.9.0-py2.py3-none-any.whl (53 kB)\n",
            "\u001b[2K     \u001b[90m━━━━━━━━━━━━━━━━━━━━━━━━━━━━━━━━━━━━━━━━\u001b[0m \u001b[32m53.6/53.6 kB\u001b[0m \u001b[31m6.3 MB/s\u001b[0m eta \u001b[36m0:00:00\u001b[0m\n",
            "\u001b[?25hCollecting h2==3.*\n",
            "  Downloading h2-3.2.0-py2.py3-none-any.whl (65 kB)\n",
            "\u001b[2K     \u001b[90m━━━━━━━━━━━━━━━━━━━━━━━━━━━━━━━━━━━━━━━━\u001b[0m \u001b[32m65.0/65.0 kB\u001b[0m \u001b[31m7.3 MB/s\u001b[0m eta \u001b[36m0:00:00\u001b[0m\n",
            "\u001b[?25hCollecting hyperframe<6,>=5.2.0\n",
            "  Downloading hyperframe-5.2.0-py2.py3-none-any.whl (12 kB)\n",
            "Collecting hpack<4,>=3.0\n",
            "  Downloading hpack-3.0.0-py2.py3-none-any.whl (38 kB)\n",
            "Building wheels for collected packages: googletrans\n",
            "  Building wheel for googletrans (setup.py) ... \u001b[?25l\u001b[?25hdone\n",
            "  Created wheel for googletrans: filename=googletrans-3.1.0a0-py3-none-any.whl size=16368 sha256=a25e5a78457263bc55cf48222ce4b20e9ae5d20e0aa310fba6cc24685436f190\n",
            "  Stored in directory: /root/.cache/pip/wheels/50/5d/3c/8477d0af4ca2b8b1308812c09f1930863caeebc762fe265a95\n",
            "Successfully built googletrans\n",
            "Installing collected packages: rfc3986, hyperframe, hpack, h11, chardet, idna, hstspreload, h2, httpcore, httpx, googletrans\n",
            "  Attempting uninstall: chardet\n",
            "    Found existing installation: chardet 4.0.0\n",
            "    Uninstalling chardet-4.0.0:\n",
            "      Successfully uninstalled chardet-4.0.0\n",
            "  Attempting uninstall: idna\n",
            "    Found existing installation: idna 3.4\n",
            "    Uninstalling idna-3.4:\n",
            "      Successfully uninstalled idna-3.4\n",
            "Successfully installed chardet-3.0.4 googletrans-3.1.0a0 h11-0.9.0 h2-3.2.0 hpack-3.0.0 hstspreload-2023.1.1 httpcore-0.9.1 httpx-0.13.3 hyperframe-5.2.0 idna-2.10 rfc3986-1.5.0\n"
          ]
        },
        {
          "output_type": "display_data",
          "data": {
            "application/vnd.colab-display-data+json": {
              "pip_warning": {
                "packages": [
                  "chardet",
                  "idna"
                ]
              }
            }
          },
          "metadata": {}
        }
      ]
    },
    {
      "cell_type": "code",
      "source": [
        "from googletrans import Translator\n",
        "translator = Translator()\n",
        "translation = translator.translate('có chí thì nên',dest = 'en')\n",
        "print(translation.text)"
      ],
      "metadata": {
        "colab": {
          "base_uri": "https://localhost:8080/"
        },
        "id": "yzH3ZpO0f4rP",
        "outputId": "b7d1715d-dc91-46e2-f0c9-5f4baf507357"
      },
      "execution_count": null,
      "outputs": [
        {
          "output_type": "stream",
          "name": "stdout",
          "text": [
            "If you have will, you should\n"
          ]
        }
      ]
    },
    {
      "cell_type": "code",
      "source": [
        "from googletrans import Translator\n",
        "translator = Translator()\n",
        "translation = translator.translate('I love playing badminton in my spare time. I spend a lot of my free time playing badminton after finishing my homework. I was so interested in playing badminton from my childhood and started learning to play when I was 7 years old. When I was 8 years old, my dad told my teacher about my hobby of badminton. My teacher told my dad that there was a facility for playing sports daily in school so he could admit his child. Now, I enjoy playing badminton and I participate in inter-school competitions.',dest = 'vi')\n",
        "print(translation.text)"
      ],
      "metadata": {
        "colab": {
          "base_uri": "https://localhost:8080/"
        },
        "id": "gBb6RH6SgxZM",
        "outputId": "3ac8b2e3-dd14-4cba-e399-b617c2fca759"
      },
      "execution_count": null,
      "outputs": [
        {
          "output_type": "stream",
          "name": "stdout",
          "text": [
            "Tôi thích chơi cầu lông trong thời gian rảnh rỗi. Tôi dành nhiều thời gian rảnh để chơi cầu lông sau khi hoàn thành bài tập về nhà. Tôi rất thích chơi cầu lông từ nhỏ và bắt đầu học chơi khi tôi 7 tuổi. Khi tôi 8 tuổi, bố tôi nói với giáo viên về sở thích cầu lông của tôi. Giáo viên của tôi nói với bố tôi rằng có một cơ sở chơi thể thao hàng ngày ở trường để ông có thể nhận con mình. Bây giờ, tôi thích chơi cầu lông và tôi tham gia các cuộc thi liên trường.\n"
          ]
        }
      ]
    },
    {
      "cell_type": "code",
      "source": [
        "from googletrans import Translator\n",
        "translator = Translator()\n",
        "translation = translator.translate('''Per poter rispondere a questa domanda, mi concentrerò in primo luogo su...La questione è già da molto tempo di grande interesse per gli esperti in materia.Generalmente accolta è la tesi secondo la quale...Tale tematica è stata lungamente discussa...Seppure è unanime che...Prendendo in considerazione i seguenti fattori...Attraverso quest'analisi si è cercato di individuare...Un tema ricorrente parlando di... è...Questo fenomeno è stato osservato empiricamente in diverse occasioni.Al di là di ciò che già è stato scritto, la domanda, attorno alla quale ruota questo studio, è..Questa ricerca esplora le cause di...Gli ultimi contributi alla tematica mostrano che...Il mio obiettivo è quello di...Dallo studio empirico di..., si può comprendere in maniera esauriente...''',dest = 'vi')\n",
        "print(translation.text)"
      ],
      "metadata": {
        "colab": {
          "base_uri": "https://localhost:8080/"
        },
        "id": "gX3j7cL_hR9D",
        "outputId": "14da2d9b-1b5a-4fc8-b08b-b726d32b97b3"
      },
      "execution_count": null,
      "outputs": [
        {
          "output_type": "stream",
          "name": "stdout",
          "text": [
            "Để có thể trả lời câu hỏi này, trước tiên tôi sẽ tập trung vào...Câu hỏi đã được các chuyên gia trong lĩnh vực này quan tâm từ lâu. Luận án được chấp nhận rộng rãi theo đó...Chủ đề này đã đã được thảo luận rất lâu. ..Mặc dù nhất trí rằng...Có tính đến các yếu tố sau...Thông qua phân tích này, chúng tôi đã cố gắng xác định...Một chủ đề lặp đi lặp lại nói về...là...Hiện tượng này đã đã được quan sát theo kinh nghiệm trong nhiều dịp khác nhau. Ngoài những gì đã được viết, câu hỏi mà nghiên cứu này xoay quanh là..Nghiên cứu này khám phá nguyên nhân của...Những đóng góp mới nhất cho chủ đề này cho thấy rằng...Mục tiêu của tôi là đạt được. ..Từ nghiên cứu thực nghiệm về..., người ta có thể hiểu một cách toàn diện...\n"
          ]
        }
      ]
    },
    {
      "cell_type": "code",
      "source": [
        "from googletrans import Translator\n",
        "translator = Translator()\n",
        "translation = translator.translate('''Per poter rispondere a questa domanda, mi concentrerò in primo luogo su...La questione è già da molto tempo di grande interesse per gli esperti in materia.Generalmente accolta è la tesi secondo la quale...Tale tematica è stata lungamente discussa...Seppure è unanime che...Prendendo in considerazione i seguenti fattori...Attraverso quest'analisi si è cercato di individuare...Un tema ricorrente parlando di... è...Questo fenomeno è stato osservato empiricamente in diverse occasioni.Al di là di ciò che già è stato scritto, la domanda, attorno alla quale ruota questo studio, è..Questa ricerca esplora le cause di...Gli ultimi contributi alla tematica mostrano che...Il mio obiettivo è quello di...Dallo studio empirico di..., si può comprendere in maniera esauriente...''')\n",
        "print(translation.text)"
      ],
      "metadata": {
        "colab": {
          "base_uri": "https://localhost:8080/"
        },
        "id": "YYlt2bAxhqwn",
        "outputId": "3be220bd-3257-4a99-f5ae-e9898a46a778"
      },
      "execution_count": null,
      "outputs": [
        {
          "output_type": "stream",
          "name": "stdout",
          "text": [
            "In order to be able to answer this question, I will first focus on...The question has already been of great interest to experts in the field for a long time.Generally accepted is the thesis according to which...This topic has been discussed at length. ..Although it is unanimous that...Taking into consideration the following factors...Through this analysis we have tried to identify...A recurring theme speaking of... is...This phenomenon has been observed empirically in various occasions.Beyond what has already been written, the question around which this study revolves is..This research explores the causes of...The latest contributions to the topic show that...My goal is to of...From the empirical study of..., one can comprehensively understand...\n"
          ]
        }
      ]
    },
    {
      "cell_type": "code",
      "source": [
        "r = sr.Recognizer()\n",
        "test = sr.AudioFile('/content/drive/MyDrive/W14/Talk/vietnamese-talk.wav')\n",
        "with test as source:\n",
        "  data = r.record(source)\n",
        "  text = r.recognize_google(data,language = 'vi')\n",
        "translator = Translator()\n",
        "translation = translator.translate(text)\n",
        "print(translation.text)"
      ],
      "metadata": {
        "colab": {
          "base_uri": "https://localhost:8080/"
        },
        "id": "hIHIk4VLimh6",
        "outputId": "3a48f113-bdf2-4698-915f-9be828fc003b"
      },
      "execution_count": null,
      "outputs": [
        {
          "output_type": "stream",
          "name": "stdout",
          "text": [
            "Well I also have to brag that my daughter is 31 years old and older I have to rethink what I have to say today please ask me what my child asked me because one of the what i get often asked is bro, whether money success is a standard of happiness, i'll tell you the truth now i also think this is that having money is not necessarily happy but without money it's very, very difficult to be happy that's true and when you're arguing about having a low-paying job I want to tell a story like this, guys, remember that a good salary is okay social organizations are recognized by companies for your ability and qualifications and different from us, which can be just one company, I have worked at FPT for 29 years now, whereas I want to share today's Generation Z every 25 35 You change companies once Even a lot of people want to change careers once this is my child too but I'm very hooked That's what I'm suddenly realized the value of happiness today of young people has started to be very different, which you think is a different happiness from our generation. argue that the problem is not the achievement of the goal, the problem is the path to the goal\n"
          ]
        }
      ]
    },
    {
      "cell_type": "code",
      "source": [
        "r = sr.Recognizer()\n",
        "test = sr.AudioFile('/content/drive/MyDrive/W14/Music/Vietnamese_folkmusic.wav')\n",
        "with test as source:\n",
        "  data = r.record(source)\n",
        "  text = r.recognize_google(data,language = 'vi')\n",
        "translator = Translator()\n",
        "translation = translator.translate(text)\n",
        "print(translation.text)"
      ],
      "metadata": {
        "colab": {
          "base_uri": "https://localhost:8080/"
        },
        "id": "kst-Kokxjh4b",
        "outputId": "3439c342-59d5-42af-a68f-7a60c717e8fc"
      },
      "execution_count": null,
      "outputs": [
        {
          "output_type": "stream",
          "name": "stdout",
          "text": [
            "Those who go to the land of the South Blue sky white clouds tangled around Cuu Long just avoided the East Take the old people who used to be here, give us more love for the feet of the house, but we love the worms more\n"
          ]
        }
      ]
    },
    {
      "cell_type": "code",
      "source": [
        "pip install transformers"
      ],
      "metadata": {
        "colab": {
          "base_uri": "https://localhost:8080/"
        },
        "id": "N2MNaGMekpY6",
        "outputId": "55ac7f1b-18d1-441a-97b1-05463ae54591"
      },
      "execution_count": null,
      "outputs": [
        {
          "output_type": "stream",
          "name": "stdout",
          "text": [
            "Looking in indexes: https://pypi.org/simple, https://us-python.pkg.dev/colab-wheels/public/simple/\n",
            "Collecting transformers\n",
            "  Downloading transformers-4.28.1-py3-none-any.whl (7.0 MB)\n",
            "\u001b[2K     \u001b[90m━━━━━━━━━━━━━━━━━━━━━━━━━━━━━━━━━━━━━━━━\u001b[0m \u001b[32m7.0/7.0 MB\u001b[0m \u001b[31m41.5 MB/s\u001b[0m eta \u001b[36m0:00:00\u001b[0m\n",
            "\u001b[?25hRequirement already satisfied: pyyaml>=5.1 in /usr/local/lib/python3.10/dist-packages (from transformers) (6.0)\n",
            "Requirement already satisfied: requests in /usr/local/lib/python3.10/dist-packages (from transformers) (2.27.1)\n",
            "Requirement already satisfied: tqdm>=4.27 in /usr/local/lib/python3.10/dist-packages (from transformers) (4.65.0)\n",
            "Requirement already satisfied: regex!=2019.12.17 in /usr/local/lib/python3.10/dist-packages (from transformers) (2022.10.31)\n",
            "Requirement already satisfied: numpy>=1.17 in /usr/local/lib/python3.10/dist-packages (from transformers) (1.22.4)\n",
            "Requirement already satisfied: packaging>=20.0 in /usr/local/lib/python3.10/dist-packages (from transformers) (23.1)\n",
            "Collecting huggingface-hub<1.0,>=0.11.0\n",
            "  Downloading huggingface_hub-0.14.1-py3-none-any.whl (224 kB)\n",
            "\u001b[2K     \u001b[90m━━━━━━━━━━━━━━━━━━━━━━━━━━━━━━━━━━━━━━\u001b[0m \u001b[32m224.5/224.5 kB\u001b[0m \u001b[31m18.3 MB/s\u001b[0m eta \u001b[36m0:00:00\u001b[0m\n",
            "\u001b[?25hRequirement already satisfied: filelock in /usr/local/lib/python3.10/dist-packages (from transformers) (3.12.0)\n",
            "Collecting tokenizers!=0.11.3,<0.14,>=0.11.1\n",
            "  Downloading tokenizers-0.13.3-cp310-cp310-manylinux_2_17_x86_64.manylinux2014_x86_64.whl (7.8 MB)\n",
            "\u001b[2K     \u001b[90m━━━━━━━━━━━━━━━━━━━━━━━━━━━━━━━━━━━━━━━━\u001b[0m \u001b[32m7.8/7.8 MB\u001b[0m \u001b[31m80.5 MB/s\u001b[0m eta \u001b[36m0:00:00\u001b[0m\n",
            "\u001b[?25hRequirement already satisfied: typing-extensions>=3.7.4.3 in /usr/local/lib/python3.10/dist-packages (from huggingface-hub<1.0,>=0.11.0->transformers) (4.5.0)\n",
            "Requirement already satisfied: fsspec in /usr/local/lib/python3.10/dist-packages (from huggingface-hub<1.0,>=0.11.0->transformers) (2023.4.0)\n",
            "Requirement already satisfied: certifi>=2017.4.17 in /usr/local/lib/python3.10/dist-packages (from requests->transformers) (2022.12.7)\n",
            "Requirement already satisfied: idna<4,>=2.5 in /usr/local/lib/python3.10/dist-packages (from requests->transformers) (2.10)\n",
            "Requirement already satisfied: charset-normalizer~=2.0.0 in /usr/local/lib/python3.10/dist-packages (from requests->transformers) (2.0.12)\n",
            "Requirement already satisfied: urllib3<1.27,>=1.21.1 in /usr/local/lib/python3.10/dist-packages (from requests->transformers) (1.26.15)\n",
            "Installing collected packages: tokenizers, huggingface-hub, transformers\n",
            "Successfully installed huggingface-hub-0.14.1 tokenizers-0.13.3 transformers-4.28.1\n"
          ]
        }
      ]
    },
    {
      "cell_type": "code",
      "source": [
        "from transformers import pipeline, set_seed\n",
        "generator = pipeline('text-generation', model = 'gpt2')\n",
        "set_seed(42)\n",
        "generator('Please, talk about Vietnam',max_length = 100, num_return_sequences =5)"
      ],
      "metadata": {
        "colab": {
          "base_uri": "https://localhost:8080/"
        },
        "id": "WjfBnp8loHXG",
        "outputId": "eea71532-292a-4d77-9164-b7623f3b0835"
      },
      "execution_count": null,
      "outputs": [
        {
          "output_type": "stream",
          "name": "stderr",
          "text": [
            "Setting `pad_token_id` to `eos_token_id`:50256 for open-end generation.\n"
          ]
        },
        {
          "output_type": "execute_result",
          "data": {
            "text/plain": [
              "[{'generated_text': \"Please, talk about Vietnam. It seems like you've got the information about everything. You're being careful in your writing. The story doesn't seem to be going well. And your only hope is you write it this way, by myself. The first thing to do is write a paragraph in which you said something, and it made your job a lot easier. Because you didn't think it was necessary to do it. You don't think it would make any of the people who did the writing\"},\n",
              " {'generated_text': \"Please, talk about Vietnam War, or the Vietnam War.\\n\\nA few examples are those that I've seen over and over and over again. For over 40 years I've seen that they're getting killed.\\n\\nNo, they're getting killed every week.\\n\\nThe Vietnam War is such a disaster.\\n\\nIf we were to talk about it now, we'd get a very hard time.\\n\\nAll right. I want to ask you to explain what I'm talking about\"},\n",
              " {'generated_text': 'Please, talk about Vietnam, then get into Vietnam, then come back, get out of Vietnam!\\n\\nOn July 21, 1962, after a year of bombing, in retaliation to the 9/11 attacks, the US officially invaded the Czech Republic, and declared Czechoslovakia a national state, as well as declaring all other countries a state that may take part in US military interventions. This decision led not only to war with Russia but also a massive bombing campaign against the Soviet Union, a direct'},\n",
              " {'generated_text': \"Please, talk about Vietnam, and take a tour of the country, which sounds a lot like a bunch of hippie movie theaters.\\n\\nI don't want to think of any of these pictures as having Vietnamese films or any food in them. They're just tourist pictures. And I just want to tell people that Vietnam is a movie in film. I could also go on and on about how, well, here's a movie, and why I loved that, this is the Vietnam. I\"},\n",
              " {'generated_text': \"Please, talk about Vietnam. I don't know anything about Vietnam. I haven't been to the war. I didn't have the money. I didn't have a job. I don't know where I'm going, I just spent the whole time saying 'I would not do that,' because I said I would make it. I've been with the military. I've been with my family and friends and everybody who knows me and that was all that's been in my head.\\n\\n\"}]"
            ]
          },
          "metadata": {},
          "execution_count": 14
        }
      ]
    },
    {
      "cell_type": "code",
      "source": [
        "generator('Who is Cristiano Ronaldo',max_length = 100, num_return_sequences =5)"
      ],
      "metadata": {
        "colab": {
          "base_uri": "https://localhost:8080/"
        },
        "id": "k1qTgwrqpwoq",
        "outputId": "ef8317cc-9162-4b34-b910-a55617ccf99b"
      },
      "execution_count": null,
      "outputs": [
        {
          "output_type": "stream",
          "name": "stderr",
          "text": [
            "Setting `pad_token_id` to `eos_token_id`:50256 for open-end generation.\n"
          ]
        },
        {
          "output_type": "execute_result",
          "data": {
            "text/plain": [
              "[{'generated_text': 'Who is Cristiano Ronaldo?\" asks Cristiano Ronaldo.\\n\\nRonaldo nods. Well… maybe not.\\n\\n\"Yes,\" responds David Beckham.\\n\\nIt\\'s just a game.\\n\\nRonaldo\\'s name goes out to an entire country but there\\'s so much better to enjoy as an international superstar. How about Ronaldo\\'s love for Portugal?\\n\\nBut, in his case, he\\'s even more passionate about his country, too.\\n\\nAs you can see in this interview'},\n",
              " {'generated_text': 'Who is Cristiano Ronaldo?\\n\\nFulham coach Jose Mourinho is a huge believer of Ronaldo\\'s physicality, athleticism and the ability to drive. The 27-year-old star has the rare gift and potential to transform a title contender.\\n\\n\"I am convinced he will be a star,\" said Mourinho after the match.\\n\\nIn terms of the game, Manchester United beat Arsenal 5-3 on Saturday, their best result in their history. The last time they played a game'},\n",
              " {'generated_text': \"Who is Cristiano Ronaldo?\\n\\nIt isn't a question of whether Ronaldo has anything to do with Cristiano Ronaldo; it's a question of whether that could stand in the way of that relationship becoming more real and bigger. And even though Ronaldo may have something to do with that, he's just a guy who is constantly being asked about that. It hasn't mattered what it is that he's been asked about ever since he first began appearing on the show, so he's certainly got it\"},\n",
              " {'generated_text': 'Who is Cristiano Ronaldo and why?\" You get the idea. Now I\\'m not sure how many of those are his best friends…\\n\\n(Laughs)\\n\\nBut he\\'s certainly a much better person than you think…\\n\\nYeah. Yeah. I don\\'t really know.\\n\\nHow did the game work out for you at Real Madrid? Is it the big league you got to watch the most?\\n\\nI wasn\\'t really there and then [in Spain]. I\\'m not'},\n",
              " {'generated_text': 'Who is Cristiano Ronaldo in the world today?\", according to one Portuguese blog.'}]"
            ]
          },
          "metadata": {},
          "execution_count": 22
        }
      ]
    },
    {
      "cell_type": "code",
      "source": [
        "generator[0]['generated_text']"
      ],
      "metadata": {
        "colab": {
          "base_uri": "https://localhost:8080/",
          "height": 165
        },
        "id": "9TvMZRngqGOM",
        "outputId": "9fd06d02-b52a-4001-e079-3ffe3dcb98e6"
      },
      "execution_count": null,
      "outputs": [
        {
          "output_type": "error",
          "ename": "TypeError",
          "evalue": "ignored",
          "traceback": [
            "\u001b[0;31m---------------------------------------------------------------------------\u001b[0m",
            "\u001b[0;31mTypeError\u001b[0m                                 Traceback (most recent call last)",
            "\u001b[0;32m<ipython-input-23-9a5c2d975204>\u001b[0m in \u001b[0;36m<cell line: 1>\u001b[0;34m()\u001b[0m\n\u001b[0;32m----> 1\u001b[0;31m \u001b[0mgenerator\u001b[0m\u001b[0;34m[\u001b[0m\u001b[0;36m0\u001b[0m\u001b[0;34m]\u001b[0m\u001b[0;34m[\u001b[0m\u001b[0;34m'generated_text'\u001b[0m\u001b[0;34m]\u001b[0m\u001b[0;34m\u001b[0m\u001b[0;34m\u001b[0m\u001b[0m\n\u001b[0m",
            "\u001b[0;31mTypeError\u001b[0m: 'TextGenerationPipeline' object is not subscriptable"
          ]
        }
      ]
    },
    {
      "cell_type": "code",
      "source": [],
      "metadata": {
        "id": "r7fmxj21sE_5"
      },
      "execution_count": null,
      "outputs": []
    }
  ]
}